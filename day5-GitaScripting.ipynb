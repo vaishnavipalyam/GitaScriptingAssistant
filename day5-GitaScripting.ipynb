{
 "cells": [
  {
   "cell_type": "code",
   "execution_count": 5,
   "id": "785cfb57-3b6e-4c10-baa8-9d399d4a7dd9",
   "metadata": {
    "collapsed": true,
    "jupyter": {
     "outputs_hidden": true
    },
    "scrolled": true
   },
   "outputs": [
    {
     "name": "stdout",
     "output_type": "stream",
     "text": [
      "Requirement already satisfied: google-auth in c:\\users\\vaish\\anaconda3\\envs\\llms\\lib\\site-packages (2.40.3)\n",
      "Collecting google-auth-oauthlib\n",
      "  Downloading google_auth_oauthlib-1.2.2-py3-none-any.whl.metadata (2.7 kB)\n",
      "Requirement already satisfied: google-auth-httplib2 in c:\\users\\vaish\\anaconda3\\envs\\llms\\lib\\site-packages (0.2.0)\n",
      "Requirement already satisfied: google-api-python-client in c:\\users\\vaish\\anaconda3\\envs\\llms\\lib\\site-packages (2.177.0)\n",
      "Collecting google-api-python-client\n",
      "  Downloading google_api_python_client-2.179.0-py3-none-any.whl.metadata (7.0 kB)\n",
      "Requirement already satisfied: cachetools<6.0,>=2.0.0 in c:\\users\\vaish\\anaconda3\\envs\\llms\\lib\\site-packages (from google-auth) (5.5.2)\n",
      "Requirement already satisfied: pyasn1-modules>=0.2.1 in c:\\users\\vaish\\anaconda3\\envs\\llms\\lib\\site-packages (from google-auth) (0.4.2)\n",
      "Requirement already satisfied: rsa<5,>=3.1.4 in c:\\users\\vaish\\anaconda3\\envs\\llms\\lib\\site-packages (from google-auth) (4.9.1)\n",
      "Requirement already satisfied: pyasn1>=0.1.3 in c:\\users\\vaish\\anaconda3\\envs\\llms\\lib\\site-packages (from rsa<5,>=3.1.4->google-auth) (0.6.1)\n",
      "Requirement already satisfied: requests-oauthlib>=0.7.0 in c:\\users\\vaish\\anaconda3\\envs\\llms\\lib\\site-packages (from google-auth-oauthlib) (2.0.0)\n",
      "Requirement already satisfied: httplib2>=0.19.0 in c:\\users\\vaish\\anaconda3\\envs\\llms\\lib\\site-packages (from google-auth-httplib2) (0.22.0)\n",
      "Requirement already satisfied: google-api-core!=2.0.*,!=2.1.*,!=2.2.*,!=2.3.0,<3.0.0,>=1.31.5 in c:\\users\\vaish\\anaconda3\\envs\\llms\\lib\\site-packages (from google-api-python-client) (1.34.1)\n",
      "Requirement already satisfied: uritemplate<5,>=3.0.1 in c:\\users\\vaish\\anaconda3\\envs\\llms\\lib\\site-packages (from google-api-python-client) (4.2.0)\n",
      "Requirement already satisfied: googleapis-common-protos<2.0dev,>=1.56.2 in c:\\users\\vaish\\anaconda3\\envs\\llms\\lib\\site-packages (from google-api-core!=2.0.*,!=2.1.*,!=2.2.*,!=2.3.0,<3.0.0,>=1.31.5->google-api-python-client) (1.70.0)\n",
      "Requirement already satisfied: protobuf!=3.20.0,!=3.20.1,!=4.21.0,!=4.21.1,!=4.21.2,!=4.21.3,!=4.21.4,!=4.21.5,<4.0.0dev,>=3.19.5 in c:\\users\\vaish\\anaconda3\\envs\\llms\\lib\\site-packages (from google-api-core!=2.0.*,!=2.1.*,!=2.2.*,!=2.3.0,<3.0.0,>=1.31.5->google-api-python-client) (3.20.2)\n",
      "Requirement already satisfied: requests<3.0.0dev,>=2.18.0 in c:\\users\\vaish\\anaconda3\\envs\\llms\\lib\\site-packages (from google-api-core!=2.0.*,!=2.1.*,!=2.2.*,!=2.3.0,<3.0.0,>=1.31.5->google-api-python-client) (2.32.4)\n",
      "Requirement already satisfied: pyparsing!=3.0.0,!=3.0.1,!=3.0.2,!=3.0.3,<4,>=2.4.2 in c:\\users\\vaish\\anaconda3\\envs\\llms\\lib\\site-packages (from httplib2>=0.19.0->google-auth-httplib2) (3.2.3)\n",
      "Requirement already satisfied: charset_normalizer<4,>=2 in c:\\users\\vaish\\anaconda3\\envs\\llms\\lib\\site-packages (from requests<3.0.0dev,>=2.18.0->google-api-core!=2.0.*,!=2.1.*,!=2.2.*,!=2.3.0,<3.0.0,>=1.31.5->google-api-python-client) (3.4.2)\n",
      "Requirement already satisfied: idna<4,>=2.5 in c:\\users\\vaish\\anaconda3\\envs\\llms\\lib\\site-packages (from requests<3.0.0dev,>=2.18.0->google-api-core!=2.0.*,!=2.1.*,!=2.2.*,!=2.3.0,<3.0.0,>=1.31.5->google-api-python-client) (3.10)\n",
      "Requirement already satisfied: urllib3<3,>=1.21.1 in c:\\users\\vaish\\anaconda3\\envs\\llms\\lib\\site-packages (from requests<3.0.0dev,>=2.18.0->google-api-core!=2.0.*,!=2.1.*,!=2.2.*,!=2.3.0,<3.0.0,>=1.31.5->google-api-python-client) (2.5.0)\n",
      "Requirement already satisfied: certifi>=2017.4.17 in c:\\users\\vaish\\anaconda3\\envs\\llms\\lib\\site-packages (from requests<3.0.0dev,>=2.18.0->google-api-core!=2.0.*,!=2.1.*,!=2.2.*,!=2.3.0,<3.0.0,>=1.31.5->google-api-python-client) (2025.7.14)\n",
      "Requirement already satisfied: oauthlib>=3.0.0 in c:\\users\\vaish\\anaconda3\\envs\\llms\\lib\\site-packages (from requests-oauthlib>=0.7.0->google-auth-oauthlib) (3.3.1)\n",
      "Downloading google_auth_oauthlib-1.2.2-py3-none-any.whl (19 kB)\n",
      "Downloading google_api_python_client-2.179.0-py3-none-any.whl (14.0 MB)\n",
      "   ---------------------------------------- 0.0/14.0 MB ? eta -:--:--\n",
      "    --------------------------------------- 0.3/14.0 MB ? eta -:--:--\n",
      "   - -------------------------------------- 0.5/14.0 MB 1.7 MB/s eta 0:00:08\n",
      "   --- ------------------------------------ 1.3/14.0 MB 2.5 MB/s eta 0:00:06\n",
      "   ----- ---------------------------------- 1.8/14.0 MB 2.8 MB/s eta 0:00:05\n",
      "   -------- ------------------------------- 2.9/14.0 MB 3.0 MB/s eta 0:00:04\n",
      "   ---------- ----------------------------- 3.7/14.0 MB 3.2 MB/s eta 0:00:04\n",
      "   --------------- ------------------------ 5.2/14.0 MB 3.8 MB/s eta 0:00:03\n",
      "   ---------------- ----------------------- 5.8/14.0 MB 3.7 MB/s eta 0:00:03\n",
      "   ------------------- -------------------- 6.8/14.0 MB 3.9 MB/s eta 0:00:02\n",
      "   ------------------------ --------------- 8.4/14.0 MB 4.3 MB/s eta 0:00:02\n",
      "   --------------------------- ------------ 9.7/14.0 MB 4.5 MB/s eta 0:00:01\n",
      "   -------------------------------- ------- 11.3/14.0 MB 4.8 MB/s eta 0:00:01\n",
      "   ------------------------------------- -- 13.1/14.0 MB 5.1 MB/s eta 0:00:01\n",
      "   ---------------------------------------- 14.0/14.0 MB 5.1 MB/s eta 0:00:00\n",
      "Installing collected packages: google-auth-oauthlib, google-api-python-client\n",
      "\n",
      "  Attempting uninstall: google-api-python-client\n",
      "\n",
      "    Found existing installation: google-api-python-client 2.177.0\n",
      "\n",
      "   -------------------- ------------------- 1/2 [google-api-python-client]\n",
      "   -------------------- ------------------- 1/2 [google-api-python-client]\n",
      "    Uninstalling google-api-python-client-2.177.0:\n",
      "   -------------------- ------------------- 1/2 [google-api-python-client]\n",
      "      Successfully uninstalled google-api-python-client-2.177.0\n",
      "   -------------------- ------------------- 1/2 [google-api-python-client]\n",
      "   -------------------- ------------------- 1/2 [google-api-python-client]\n",
      "   -------------------- ------------------- 1/2 [google-api-python-client]\n",
      "   -------------------- ------------------- 1/2 [google-api-python-client]\n",
      "   -------------------- ------------------- 1/2 [google-api-python-client]\n",
      "   -------------------- ------------------- 1/2 [google-api-python-client]\n",
      "   -------------------- ------------------- 1/2 [google-api-python-client]\n",
      "   -------------------- ------------------- 1/2 [google-api-python-client]\n",
      "   -------------------- ------------------- 1/2 [google-api-python-client]\n",
      "   -------------------- ------------------- 1/2 [google-api-python-client]\n",
      "   -------------------- ------------------- 1/2 [google-api-python-client]\n",
      "   -------------------- ------------------- 1/2 [google-api-python-client]\n",
      "   -------------------- ------------------- 1/2 [google-api-python-client]\n",
      "   -------------------- ------------------- 1/2 [google-api-python-client]\n",
      "   -------------------- ------------------- 1/2 [google-api-python-client]\n",
      "   -------------------- ------------------- 1/2 [google-api-python-client]\n",
      "   -------------------- ------------------- 1/2 [google-api-python-client]\n",
      "   -------------------- ------------------- 1/2 [google-api-python-client]\n",
      "   -------------------- ------------------- 1/2 [google-api-python-client]\n",
      "   ---------------------------------------- 2/2 [google-api-python-client]\n",
      "\n",
      "Successfully installed google-api-python-client-2.179.0 google-auth-oauthlib-1.2.2\n"
     ]
    }
   ],
   "source": [
    "!pip install --upgrade google-auth google-auth-oauthlib google-auth-httplib2 google-api-python-client"
   ]
  },
  {
   "cell_type": "code",
   "execution_count": 227,
   "id": "53c61499-3c04-4178-bc01-675d701b6cce",
   "metadata": {
    "collapsed": true,
    "jupyter": {
     "outputs_hidden": true
    }
   },
   "outputs": [
    {
     "name": "stdout",
     "output_type": "stream",
     "text": [
      "Collecting markdown\n",
      "  Downloading markdown-3.8.2-py3-none-any.whl.metadata (5.1 kB)\n",
      "Downloading markdown-3.8.2-py3-none-any.whl (106 kB)\n",
      "Installing collected packages: markdown\n",
      "Successfully installed markdown-3.8.2\n"
     ]
    }
   ],
   "source": [
    "!pip install markdown"
   ]
  },
  {
   "cell_type": "code",
   "execution_count": 10,
   "id": "7759922b-12c9-44e0-8ac3-5f2a02b321d7",
   "metadata": {},
   "outputs": [],
   "source": [
    "import os\n",
    "import requests\n",
    "import json\n",
    "from typing import List\n",
    "from dotenv import load_dotenv\n",
    "from IPython.display import Markdown, display, update_display\n",
    "from openai import OpenAI\n",
    "\n",
    "# For sending mail\n",
    "import smtplib\n",
    "from email.mime.text import MIMEText\n",
    "from email.mime.multipart import MIMEMultipart\n",
    "\n",
    "# For rendering markdown\n",
    "import markdown\n",
    "\n",
    "# For creating UI\n",
    "import gradio as gr"
   ]
  },
  {
   "cell_type": "code",
   "execution_count": 11,
   "id": "773d27c0-6bea-4af0-8ae5-292ff57cd18b",
   "metadata": {},
   "outputs": [],
   "source": [
    "#for email authentication\n",
    "from __future__ import print_function\n",
    "import os.path\n",
    "import base64\n",
    "\n",
    "from google.auth.transport.requests import Request\n",
    "from google.oauth2.credentials import Credentials\n",
    "from google_auth_oauthlib.flow import InstalledAppFlow\n",
    "from googleapiclient.discovery import build"
   ]
  },
  {
   "cell_type": "code",
   "execution_count": 12,
   "id": "a266273a-05e3-451e-a318-428726cfa39c",
   "metadata": {},
   "outputs": [
    {
     "name": "stdout",
     "output_type": "stream",
     "text": [
      "API key looks good so far\n"
     ]
    }
   ],
   "source": [
    "# Initialize and constants\n",
    "\n",
    "load_dotenv(override=True)\n",
    "api_key = os.getenv('OPENAI_API_KEY')\n",
    "\n",
    "if api_key and api_key.startswith('sk-proj-') and len(api_key)>10:\n",
    "    print(\"API key looks good so far\")\n",
    "else:\n",
    "    print(\"There might be a problem with your API key? Please visit the troubleshooting notebook!\")\n",
    "    \n",
    "MODEL = 'gpt-4o-mini'\n",
    "openai = OpenAI()"
   ]
  },
  {
   "cell_type": "code",
   "execution_count": 13,
   "id": "f8fd6db2-08f5-4d5f-a431-d2f118254c0e",
   "metadata": {},
   "outputs": [],
   "source": [
    "# Call the LLM with the input variables"
   ]
  },
  {
   "cell_type": "code",
   "execution_count": 14,
   "id": "45566572-dd66-48dc-ab7b-6adbe26eacba",
   "metadata": {},
   "outputs": [],
   "source": [
    "exceptions = []"
   ]
  },
  {
   "cell_type": "code",
   "execution_count": 15,
   "id": "effc0e7b-d668-48b3-86d0-dbb5d8fe3d55",
   "metadata": {},
   "outputs": [],
   "source": [
    "# Building system prompt\n",
    "def get_verse_system_prompt():\n",
    "    system_prompt = \"You are a spiritual student who classifies the versus of the BhagavadGita according to a given theme.\\n\"\n",
    "    system_prompt += \"Given a theme, you should pick a verse from any chapter and give it's location in the form of index chapter.verse_number (3.21)\\n\"\n",
    "    system_prompt += \"You should respond in JSON as in this example:\\n\"\n",
    "    system_prompt += \"\"\"\n",
    "        {\"title\": \"Chapter 3, Verse 21 (3.21)\", \"verse\": \"कर्मणा ह्यपि संसिद्धिम्‌\n",
    "                                                  आस्थिता जनकादय:।\n",
    "                                                  लोकसंग्रहमेवापि\n",
    "                                                  सम्पश्यन्कर्तुमर्हसि॥\"}\n",
    "        \"\"\"\n",
    "    return system_prompt"
   ]
  },
  {
   "cell_type": "code",
   "execution_count": 28,
   "id": "6acdcd6c-1fc5-4c71-81d0-665e25808e46",
   "metadata": {},
   "outputs": [],
   "source": [
    "# Define user prompt\n",
    "def get_verse_user_prompt():\n",
    "    user_prompt = f'''\n",
    "                    Here is the theme : {theme_input},\n",
    "                    Please find a verse from BhagavadGita excluding {exceptions} for a given theme {theme_input}\n",
    "                    '''#excluding those results which are already used\n",
    "    \n",
    "    user_prompt += \"If the verse is not in the exceptions for a given theme and used for a different theme, you are free to suggest it for a different theme.\"\n",
    "    return user_prompt"
   ]
  },
  {
   "cell_type": "code",
   "execution_count": 17,
   "id": "304d432c-7216-4a90-a5d8-db36b193657d",
   "metadata": {},
   "outputs": [],
   "source": [
    "#Call openAI to return versus\n",
    "def get_verses(theme):\n",
    "    response = openai.chat.completions.create(\n",
    "        model=MODEL,\n",
    "        messages=[\n",
    "            {\"role\": \"system\", \"content\": get_verse_system_prompt()},\n",
    "            {\"role\": \"user\", \"content\": get_verse_user_prompt()}\n",
    "      ],\n",
    "        response_format={\"type\": \"json_object\"}\n",
    "    )\n",
    "    result = response.choices[0].message.content\n",
    "    result = json.loads(result)\n",
    "\n",
    "    #Remember those results which are suggested now\n",
    "    combination = (theme, result['title'])\n",
    "    exceptions.append(combination)\n",
    "    return result"
   ]
  },
  {
   "cell_type": "code",
   "execution_count": 18,
   "id": "b5b8925e-52e4-4cb7-9205-51c65ed88fb8",
   "metadata": {},
   "outputs": [],
   "source": [
    "# So far we have fetched the new verses relevant to a given theme \n",
    "# Lets generate a script for producting youtube video"
   ]
  },
  {
   "cell_type": "code",
   "execution_count": 30,
   "id": "8ff0862b-0310-4174-ad12-64047932dc9e",
   "metadata": {},
   "outputs": [],
   "source": [
    "#def function for system prompt\n",
    "def get_script_system_prompt():\n",
    "    sys_prompt = 'You are a script writer for a youtube spiritual channel\\n'\n",
    "    sys_prompt += 'You are given a verse like below: \\n'\n",
    "    sys_prompt += str(get_verses(theme_input))\n",
    "    sys_prompt += '\\n'\n",
    "    sys_prompt += f'Give me an engaging script with markdowns in a {tone_input} tone for a {format_type_input} format video for audience like youth seeking purpose, spiritual seekers, indians abroad, scholars and curious minds.'\n",
    "\n",
    "    return sys_prompt"
   ]
  },
  {
   "cell_type": "code",
   "execution_count": 31,
   "id": "e305525b-8dde-4e93-927a-e24531827498",
   "metadata": {},
   "outputs": [],
   "source": [
    "# def function for user prompt\n",
    "def get_script_user_prompt():\n",
    "    user_prompt = f'Given the verse, help me generate a detailed script suitable for {format_type_input} format video.\\n'\n",
    "    user_prompt += f'Please give me the complete verse, its meaning, a relevant story having a dilemma which the verse solves and the interpretation of the verse with respect to {theme_input}.\\n'\n",
    "    user_prompt += 'Let the script give cues about video editing, host actions.'\n",
    "    user_prompt += 'given the below example, please follow the format:\\n'\n",
    "    user_prompt += f\"\"\"\n",
    "    [Opening Scene - Soft Instrumental Music Playing]\n",
    "\n",
    "    [Cut to Host in a serene setting, perhaps by a river or in a lush green garden.]\n",
    "\n",
    "    **Host**: (Smiling at the camera) \"Namaste, dear viewers! Welcome back to our channel, where we explore the depths of spirituality and seek to ignite the flame of wisdom within you. Today, we delve into a profound verse from the Bhagavad Gita that speaks to the very essence of life and identity, another verse which relates to {theme_input}\"\n",
    "\n",
    "    ---\n",
    "    \n",
    "    [Text On Screen: Chapter 2, Verse 13 (2.13)]\n",
    "\n",
    "    **Host**: (With a sense of reverence) \"Let’s first take a moment to recite this verse together. It goes like this:\n",
    "\n",
    "    > देहिनोऽस्मिन्न्यथा देहे कौमारं यौवनं जरा।\n",
    "    > तथादेहान्तरप्राप्तिर्धीरस्तत्र न मुह्यति॥\n",
    "\n",
    "    Now, let’s understand the essence of this verse.\"\n",
    "\n",
    "    [Cut to Graphic: Verse Translation with Key Concepts Highlighted]\n",
    "\n",
    "    *Host Voiceover*: (Calm and engaging tone) \"The meaning of this beautiful verse translates to: 'Just as the body undergoes changes from childhood to old age, similarly, the soul transitions from one body to another. The wise, who understand this, are never bewildered by these changes.'\n",
    "\n",
    "    [Cut back to Host]\n",
    "\n",
    "    **Host**: (Nodding, creating a connection)\n",
    "    \"So, why is this verse so important, especially for us as young seekers of purpose? It highlights a profound truth—that our identities are not confined by our physical forms or the stages of life we experience. Instead, we are eternal beings who are constantly evolving.\"\n",
    "\n",
    "    --- \n",
    "    \n",
    "    [Scene Transition - Soft Music Playing]\n",
    "\n",
    "    [Cut to a Story Animation - A young man named Arjun in a busy city]\n",
    "\n",
    "    *Host (Voiceover)*: \"Let me share a relatable story. Meet Arjun. Like many of us, he was once full of dreams and aspirations. He excelling in school, pursuing a career in engineering. But as the years passed, he faced a crossroads. As the pressure mounted, he began to question his identity.\n",
    "\n",
    "    (Visuals show Arjun overwhelmed by societal expectations, with people pushing him in different directions.)\n",
    "\n",
    "    He felt distinct phases of life pulling at him: childhood dreams, youthful ambitions, and the looming responsibilities of adulthood. The changing seasons of his life left him confused and wondering if he had lost his true self.\"\n",
    "\n",
    "    [Cut back to Host, empathetic tone]\n",
    "\n",
    "    **Host**: \"Have you ever felt like Arjun? It’s a dilemma we all face, especially in today's fast-paced world where expectations can cloud our true identity. But just like our verse suggests, we should recognize that these changes don’t define us. They are simply part of the journey.\"\n",
    "\n",
    "    [Scene Transition - Calm Music Playing while Host meditates]\n",
    "\n",
    "    ---\n",
    "    \n",
    "    **Host**: (Speaking gently) \"Let’s take a moment to reflect. When we are sad, does that sadness define us? Or when we achieve success, do we become defined solely by that success? The answer isn't as straightforward as it seems. Here’s the catch: our essence is beyond these transient states. Like the body, our identities are fluid.\"\n",
    "\n",
    "    [Cut to Visuals of Nature - flowing rivers, trees shedding leaves, etc.]\n",
    "\n",
    "    *Host Voiceover*: \"Imagine the endless cycle of nature—the changing seasons, the growth, the decay, and rebirth. Just like the leaves that drop to make way for new growth, our experiences contribute to our spiritual evolution.\"\n",
    "\n",
    "    [Cut back to Host - Inviting and Warm Tone]\n",
    "\n",
    "    **Host**: \"Just as the wise who understand the transformation of the soul remain unshaken, we, too, can cultivate that wisdom to rise above the chaos of change. Recognize your true essence—beyond the body, the roles, the titles. Understand that your spirit is eternal.\"\n",
    "\n",
    "    [Scene Transition - Soft Inspirational Music Begins]\n",
    "\n",
    "    **Host**: (Passionately) \"So how can we embody this truth in our daily lives? Here’s a small exercise: Each day, take a few moments to meditate on who you really are. Write down what aspects of your identity are tied to transient things. Challenge yourself—what happens when you peel these layers away?\"\n",
    "\n",
    "    [Cut to host with a pad, writing ideas]\n",
    "\n",
    "    [Scene Transition - Editing Cues - Show engaging graphics of identity, layers of a person, etc.]\n",
    "\n",
    "    *Host Voiceover*: \"Each effort towards understanding and embracing our true self draws us closer to the realization that we are eternal souls, having a human experience. This is the wisdom that can empower you to stand tall against the adversities of life.\"\n",
    "\n",
    "    [Cut back to Host]\n",
    "\n",
    "    ---\n",
    "\n",
    "    **Host**: (Concluding) \"Thank you for joining me today in this exploration of Chapter 2, Verse 13 of the Bhagavad Gita. Remember, when you feel lost in the complexities of life, return to this teachings and remind yourself that you are not just a body; you are an eternal being on a magnificent journey.\n",
    "\n",
    "    [Closing Scene - Uplifting Music Playing]\n",
    "\n",
    "    **Host**: \"Don’t forget to like, share, and subscribe if you found resonance in this message. And share your thoughts in the comments below. What did you find most challenging in your own journey of self-identity? Let’s connect and support each other in our spiritual quests. Until next time, stay enlightened, stay inspired!\"\n",
    "\n",
    "    [End Screen with Subscribe Button and Previous Video Suggestions]\n",
    "\n",
    "    [End of Script]\n",
    "    \"\"\"\n",
    "    \n",
    "    return user_prompt"
   ]
  },
  {
   "cell_type": "code",
   "execution_count": 21,
   "id": "1dfa60ce-9e88-4f7d-8e60-ac37a0aafc15",
   "metadata": {},
   "outputs": [],
   "source": [
    "def create_script():\n",
    "    response = openai.chat.completions.create(\n",
    "        model=MODEL,\n",
    "        messages=[\n",
    "            {\"role\": \"system\", \"content\": get_script_system_prompt()},\n",
    "            {\"role\": \"user\", \"content\": get_script_user_prompt()}\n",
    "          ],\n",
    "    )\n",
    "    result = response.choices[0].message.content\n",
    "    return result"
   ]
  },
  {
   "cell_type": "code",
   "execution_count": 22,
   "id": "1909bf3a-35fb-487a-8ad1-29ef20b3b6f6",
   "metadata": {},
   "outputs": [],
   "source": [
    "# If modifying scopes, delete the file token.json\n",
    "SCOPES = ['https://www.googleapis.com/auth/gmail.send']\n",
    "\n",
    "def get_service():\n",
    "    creds = None\n",
    "\n",
    "    # Try loading existing token\n",
    "    if os.path.exists('token.json'):\n",
    "        try:\n",
    "            creds = Credentials.from_authorized_user_file('token.json', SCOPES)\n",
    "        except Exception:\n",
    "            print(\"token.json is invalid, removing...\")\n",
    "            os.remove('token.json')\n",
    "            creds = None\n",
    "\n",
    "    # If no creds or creds invalid, do login\n",
    "    if not creds or not creds.valid:\n",
    "        if creds and creds.expired and creds.refresh_token:\n",
    "            creds.refresh(Request())\n",
    "        else:\n",
    "            # This must successfully return creds\n",
    "            flow = InstalledAppFlow.from_client_secrets_file('credentials.json', SCOPES)\n",
    "            creds = flow.run_local_server(port=0)\n",
    "\n",
    "        # Save only if creds is valid\n",
    "        if creds:\n",
    "            with open('token.json', 'w') as token:\n",
    "                token.write(creds.to_json())\n",
    "        else:\n",
    "            raise Exception(\"Failed to obtain credentials from Google login.\")\n",
    "\n",
    "    return build('gmail', 'v1', credentials=creds)\n"
   ]
  },
  {
   "cell_type": "code",
   "execution_count": 23,
   "id": "bcf0de6d-bda4-45ad-a528-ef1e6f81783e",
   "metadata": {},
   "outputs": [],
   "source": [
    "# Email details\n",
    "def updated_body(message_body):\n",
    "    body = '''Hello!\\n\n",
    "    \n",
    "Please find below the script:\\n\n",
    "    \n",
    "    ---\\n\n",
    "    '''\n",
    "    body += message_body\n",
    "    body +='\\n---'\n",
    "    body +='''\\n\\nThanks,\\n\n",
    "Vaishnavi'''\n",
    "    return body"
   ]
  },
  {
   "cell_type": "code",
   "execution_count": 24,
   "id": "2577cb5b-ff7b-4699-a102-07213bf501fd",
   "metadata": {},
   "outputs": [],
   "source": [
    "def send_email(body_text):\n",
    "    subject = f'Script for the theme : {theme_input}'\n",
    "    global to, s_message\n",
    "\n",
    "    #setting variables for connection\n",
    "    to = receiver_email_input\n",
    "    service=get_service()\n",
    "\n",
    "    # Convert Markdown to HTML\n",
    "    html_content = markdown.markdown(body_text)\n",
    "\n",
    "    #Setting mail parameters\n",
    "    message = MIMEText(html_content, \"html\")\n",
    "    message['to'] = receiver_email_input\n",
    "    message['subject']=subject\n",
    "    raw = base64.urlsafe_b64encode(message.as_bytes()).decode()\n",
    "    message_body = {'raw':raw}\n",
    "    s_message = service.users().messages().send(userId='me', body = message_body).execute() \n",
    "    return s_message['id']"
   ]
  },
  {
   "cell_type": "code",
   "execution_count": 25,
   "id": "77fe8f9f-aaa7-40ab-9d47-d9d4b75299a9",
   "metadata": {},
   "outputs": [],
   "source": [
    "def process_request(theme, format_type, tone, receiver_email):\n",
    "    \n",
    "    global theme_input, format_type_input, tone_input, receiver_email_input\n",
    "    \n",
    "    #store inputs\n",
    "    theme_input = theme\n",
    "    format_type_input = format_type\n",
    "    tone_input = tone\n",
    "    receiver_email_input = receiver_email\n",
    "    \n",
    "    #LLM call with the inputs\n",
    "    body = create_script()\n",
    "\n",
    "    content = updated_body(body)\n",
    "\n",
    "    #Send email with LLM response\n",
    "    message_id = send_email(content)\n",
    "    \n",
    "    return f'The script has been sent to {receiver_email_input}'\n",
    "    "
   ]
  },
  {
   "cell_type": "code",
   "execution_count": 26,
   "id": "c15fa276-8855-4cab-b393-438fe381e58b",
   "metadata": {},
   "outputs": [],
   "source": [
    "def main():\n",
    "    global theme_input, format_type_input, tone_input, receiver_email_input\n",
    "    with gr.Blocks() as UI:\n",
    "        gr.Markdown('# Welcome to the Gita scripting assistant!')\n",
    "        gr.Markdown('## How can I help you today? 🙂')\n",
    "        theme_input = gr.Textbox(label='theme')\n",
    "        format_type_input = gr.Dropdown(['Long','Short'], label='Please mention the format')\n",
    "        tone_input = gr.Textbox(label='tone')\n",
    "        receiver_email_input = gr.Textbox(label='Enter your email')\n",
    "        submit_btn = gr.Button('Generate and Send email')\n",
    "\n",
    "        output = gr.Textbox(label='Status')\n",
    "\n",
    "        submit_btn.click(\n",
    "                    fn = process_request,\n",
    "                    inputs = [theme_input, format_type_input,tone_input, receiver_email_input],\n",
    "                    outputs = output\n",
    "        )\n",
    "\n",
    "        UI.launch()"
   ]
  },
  {
   "cell_type": "code",
   "execution_count": 29,
   "id": "0db5f889-73f9-4207-afb7-5073e73388a0",
   "metadata": {},
   "outputs": [
    {
     "name": "stdout",
     "output_type": "stream",
     "text": [
      "* Running on local URL:  http://127.0.0.1:7861\n",
      "* To create a public link, set `share=True` in `launch()`.\n"
     ]
    },
    {
     "data": {
      "text/html": [
       "<div><iframe src=\"http://127.0.0.1:7861/\" width=\"100%\" height=\"500\" allow=\"autoplay; camera; microphone; clipboard-read; clipboard-write;\" frameborder=\"0\" allowfullscreen></iframe></div>"
      ],
      "text/plain": [
       "<IPython.core.display.HTML object>"
      ]
     },
     "metadata": {},
     "output_type": "display_data"
    },
    {
     "name": "stderr",
     "output_type": "stream",
     "text": [
      "Traceback (most recent call last):\n",
      "  File \"C:\\Users\\vaish\\anaconda3\\envs\\llms\\Lib\\site-packages\\gradio\\queueing.py\", line 626, in process_events\n",
      "    response = await route_utils.call_process_api(\n",
      "               ^^^^^^^^^^^^^^^^^^^^^^^^^^^^^^^^^^^\n",
      "  File \"C:\\Users\\vaish\\anaconda3\\envs\\llms\\Lib\\site-packages\\gradio\\route_utils.py\", line 350, in call_process_api\n",
      "    output = await app.get_blocks().process_api(\n",
      "             ^^^^^^^^^^^^^^^^^^^^^^^^^^^^^^^^^^^\n",
      "  File \"C:\\Users\\vaish\\anaconda3\\envs\\llms\\Lib\\site-packages\\gradio\\blocks.py\", line 2235, in process_api\n",
      "    result = await self.call_function(\n",
      "             ^^^^^^^^^^^^^^^^^^^^^^^^^\n",
      "  File \"C:\\Users\\vaish\\anaconda3\\envs\\llms\\Lib\\site-packages\\gradio\\blocks.py\", line 1746, in call_function\n",
      "    prediction = await anyio.to_thread.run_sync(  # type: ignore\n",
      "                 ^^^^^^^^^^^^^^^^^^^^^^^^^^^^^^^^^^^^^^^^^^^^^^^\n",
      "  File \"C:\\Users\\vaish\\anaconda3\\envs\\llms\\Lib\\site-packages\\anyio\\to_thread.py\", line 56, in run_sync\n",
      "    return await get_async_backend().run_sync_in_worker_thread(\n",
      "           ^^^^^^^^^^^^^^^^^^^^^^^^^^^^^^^^^^^^^^^^^^^^^^^^^^^^\n",
      "  File \"C:\\Users\\vaish\\anaconda3\\envs\\llms\\Lib\\site-packages\\anyio\\_backends\\_asyncio.py\", line 2470, in run_sync_in_worker_thread\n",
      "    return await future\n",
      "           ^^^^^^^^^^^^\n",
      "  File \"C:\\Users\\vaish\\anaconda3\\envs\\llms\\Lib\\site-packages\\anyio\\_backends\\_asyncio.py\", line 967, in run\n",
      "    result = context.run(func, *args)\n",
      "             ^^^^^^^^^^^^^^^^^^^^^^^^\n",
      "  File \"C:\\Users\\vaish\\anaconda3\\envs\\llms\\Lib\\site-packages\\gradio\\utils.py\", line 917, in wrapper\n",
      "    response = f(*args, **kwargs)\n",
      "               ^^^^^^^^^^^^^^^^^^\n",
      "  File \"C:\\Users\\vaish\\AppData\\Local\\Temp\\ipykernel_41544\\1661432580.py\", line 12, in process_request\n",
      "    body = create_script()\n",
      "           ^^^^^^^^^^^^^^^\n",
      "  File \"C:\\Users\\vaish\\AppData\\Local\\Temp\\ipykernel_41544\\2644446685.py\", line 5, in create_script\n",
      "    {\"role\": \"system\", \"content\": get_script_system_prompt()},\n",
      "                                  ^^^^^^^^^^^^^^^^^^^^^^^^^^\n",
      "  File \"C:\\Users\\vaish\\AppData\\Local\\Temp\\ipykernel_41544\\977006796.py\", line 7, in get_script_system_prompt\n",
      "    sys_prompt += f'Give me an engaging script with markdowns in a {tone} tone for a {format_type_input} format video for audience like youth seeking purpose, spiritual seekers, indians abroad, scholars and curious minds.'\n",
      "                                                                    ^^^^\n",
      "NameError: name 'tone' is not defined\n"
     ]
    }
   ],
   "source": [
    "if __name__ == \"__main__\":\n",
    "    #Initiating the global variables\n",
    "    theme_input = None\n",
    "    format_type_input = None\n",
    "    tone_input = None\n",
    "    receiver_email_input = None\n",
    "    \n",
    "    #Call the main function\n",
    "    main()"
   ]
  },
  {
   "cell_type": "code",
   "execution_count": null,
   "id": "16c7a6f1-4701-49a3-8171-ec076ee274be",
   "metadata": {},
   "outputs": [],
   "source": []
  }
 ],
 "metadata": {
  "kernelspec": {
   "display_name": "Python 3 (ipykernel)",
   "language": "python",
   "name": "python3"
  },
  "language_info": {
   "codemirror_mode": {
    "name": "ipython",
    "version": 3
   },
   "file_extension": ".py",
   "mimetype": "text/x-python",
   "name": "python",
   "nbconvert_exporter": "python",
   "pygments_lexer": "ipython3",
   "version": "3.11.13"
  }
 },
 "nbformat": 4,
 "nbformat_minor": 5
}
